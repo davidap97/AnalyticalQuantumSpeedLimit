{
 "cells": [
  {
   "cell_type": "markdown",
   "id": "cc2f9df7-2281-4d53-83ee-9ad1539bbffa",
   "metadata": {},
   "source": [
    "This Jupyter notebook employs the sympy Python module to calculate the quantum speed limit, also known as the Mandelstam-Tamm bound and the Margolus-Levitin bound. The calculations presented are based on straightforward examples and re-calculations derived from well-established research papers (see \n",
    "<font color = green> https://iopscience.iop.org/journal/1751-8121 </font>\n",
    "and\n",
    "<font color = blue> https://journals.aps.org/prl/pdf/10.1103/PhysRevLett.103.240501 </font> ).\n"
   ]
  },
  {
   "cell_type": "code",
   "execution_count": null,
   "id": "6617fb02-fab9-45c3-a971-d97939f620f8",
   "metadata": {},
   "outputs": [],
   "source": [
    "import sympy as sp\n",
    "import numpy as np\n",
    "\n",
    "\n",
    "from sympy import Matrix as mx\n",
    "\n",
    "from sympy import I, BlockMatrix,eye\n",
    "\n",
    "from sympy.physics.quantum import TensorProduct as tp\n",
    "\n",
    "from sympy.physics.quantum import Dagger,OuterProduct\n",
    "\n",
    "from sympy import symbols, pi\n",
    "\n",
    "\n",
    "ω = sp.Symbol('ω', real=True, positive = True)\n",
    "ω1 = sp.Symbol('ω1', real=True, positive = True)\n",
    "ω2 = sp.Symbol('ω2', real=True, positive = True)\n",
    "ω3 = sp.Symbol('ω3', real=True, positive = True)\n",
    "\n",
    "κ = sp.Symbol('κ', real=True, positive = True)\n",
    "κ1 = sp.Symbol('κ1', real=True, positive = True)\n",
    "κ2 = sp.Symbol('κ2', real=True, positive = True)\n",
    "κ3 = sp.Symbol('κ3', real=True, positive = True)"
   ]
  },
  {
   "cell_type": "code",
   "execution_count": 25,
   "id": "d3b2faf1-2559-48ef-87db-56c03cd2e322",
   "metadata": {},
   "outputs": [],
   "source": [
    "# Here, every function needed for the calculation of the quantum speed limit will be defined\n",
    "# those are: expectation values, moments, standard deviations, arccos functions\n",
    "\n",
    "# Expectation Value\n",
    "def expec(Ham,state):\n",
    "    expec_H_state = (Dagger(state)*Ham*state)[0,0]\n",
    "    return expec_H_state\n",
    "\n",
    "# Second Moment\n",
    "def sec_moment(Ham,state):\n",
    "    sec_moment_H_state = (Dagger(state)*(Ham**(2))*state)[0,0]\n",
    "    return sec_moment_H_state\n",
    "\n",
    "# Standard Deviation\n",
    "def deviation(Ham,state):\n",
    "    \n",
    "    expec_H_state = (expec(Ham,state))\n",
    "    \n",
    "    sec_moment_H_state = (sec_moment(Ham,state))\n",
    "    \n",
    "    dev1 = sp.simplify( sec_moment_H_state - (expec_H_state)**(2))\n",
    "    dev2 = sp.sqrt(dev1)\n",
    "    \n",
    "    if dev2 == 0.0:\n",
    "        print(\"DEVIATION IS ZERO\")\n",
    "    \n",
    "    return dev2\n",
    "\n",
    "# Fubini Study Metric, Bures Angle\n",
    "def angle(ψ0,ψ1):\n",
    "    \n",
    "    overlap =  float( (ψ0.H * ψ1)[0] )\n",
    "    \n",
    "    abs_overlap = abs( overlap )\n",
    "    \n",
    "    angle = np.arccos(abs_overlap)\n",
    "    \n",
    "    return angle\n",
    "\n",
    "# Mandelstamm-Tamm Bound\n",
    "def mandelstamm(Ham,ψ0,ψ1):\n",
    "    dev = deviation(Ham, ψ0)\n",
    "    τ1 = (1/dev)*angle(ψ0,ψ1)\n",
    "    \n",
    "    return abs(τ1)\n",
    "\n",
    "# Margolus-Levitin Bound\n",
    "def margolus(Ham,ψ0,ψ1):\n",
    "    e_min = min(list(Ham.eigenvals().keys()))\n",
    "    n = sp.shape(Ham)[0]\n",
    "    I_n = eye(n)\n",
    "    H = Ham - e_min*I_n\n",
    "    expec_Ham = expec(H,ψ0)\n",
    "    angle_squared = (angle(ψ0,ψ1))**(2)\n",
    "    \n",
    "    τ2 = 2/(sp.pi*expec_Ham) * angle_squared\n",
    "    \n",
    "    return abs(τ2).evalf()\n",
    "\n",
    "\n",
    "\n",
    "# We want the target states in a list!\n",
    "def final_state_list(target_gate):\n",
    "    L = []\n",
    "    n = len((target_gate).col(0))\n",
    "    \n",
    "    #print('LENGTH IS')\n",
    "    #print(n)\n",
    "    \n",
    "    for i in range(n):\n",
    "        final_state_i = final_state(target_gate,i)\n",
    "        L.append(final_state_i)\n",
    "        \n",
    "    return L\n",
    "\n",
    "\n",
    "# for all state transitions \\psi_0_basis to \\psi_0_target,\n",
    "# we calculate the speed limit and put them in a horny list!\n",
    "def mandelstamm_list_1(Ham,basis,target_basis):\n",
    "    L = []\n",
    "    \n",
    "    for i in range(len(basis)):\n",
    "        ψ0 = basis[i]\n",
    "        ψ1 = target_basis[i]\n",
    "        speed_limit_i = state_speed_limit_1(Ham,ψ0,ψ1)\n",
    "        \n",
    "        L.append(speed_limit_i)\n",
    "        \n",
    "\n",
    "    \n",
    "    max_speed_limit = max(L)\n",
    "    print(max_speed_limit)\n",
    "    \n",
    "    \n",
    "    return L\n",
    "\n",
    "\n",
    "def margolus_list_2(Ham,basis,target_basis):\n",
    "    L = []\n",
    "    \n",
    "    for i in range(len(basis)):\n",
    "        ψ0 = basis[i]\n",
    "        ψ1 = target_basis[i]\n",
    "        speed_limit_i = state_speed_limit_2(Ham,ψ0,ψ1)\n",
    "        \n",
    "        L.append(speed_limit_i)\n",
    "        \n",
    "    \n",
    "    max_speed_limit = max(L)\n",
    "    print(max_speed_limit)\n",
    "    \n",
    "    return L "
   ]
  },
  {
   "cell_type": "code",
   "execution_count": 24,
   "id": "a81f1c81-34d5-4bae-8ad6-a726b72d56bc",
   "metadata": {},
   "outputs": [],
   "source": [
    "# Identity\n",
    "E = mx([[1,0],[0,1]])\n",
    "\n",
    "# Pauli Gates\n",
    "X = mx([[0,1],[1,0]])\n",
    "Y = mx([[0,-I],[I,0]])\n",
    "Z = mx([[1,0],[0,-1]])\n",
    "\n",
    "### Single Qubit Basis\n",
    "\n",
    "ket_0 = mx([1,0])\n",
    "ket_1 = mx([0,1])\n",
    "\n",
    "sup_state_1 = 1/sp.sqrt(2)*(ket_0  + ket_1)\n",
    "sup_state_2 = 1/sp.sqrt(2)*(ket_0  - ket_1)\n",
    "\n",
    "\n",
    "### Two Qubit Basis\n",
    "\n",
    "k_00 = tp(ket_0,ket_0)\n",
    "k_01 = tp(ket_0,ket_1)\n",
    "k_10 = tp(ket_1,ket_0)\n",
    "k_11 = tp(ket_1,ket_1)\n",
    "\n",
    "final_state_0 = (1/sp.sqrt(2))*(k_00 + k_11)\n",
    "final_state_T = (1/sp.sqrt(2))*(k_00 - k_11)\n",
    "\n",
    "\n",
    "### Three Qubit Basis\n",
    "\n",
    "k_000 = tp(ket_0,ket_0,ket_0)\n",
    "k_010 = tp(ket_0,ket_1,ket_0)\n",
    "k_001 = tp(ket_0,ket_0,ket_1)\n",
    "k_011 = tp(ket_0,ket_1,ket_1)\n",
    "\n",
    "k_100 = tp(ket_1,ket_0,ket_0)\n",
    "k_110 = tp(ket_1,ket_1,ket_0)\n",
    "k_101 = tp(ket_1,ket_0,ket_1)\n",
    "k_111 = tp(ket_1,ket_1,ket_1)\n",
    "\n",
    "sup_ent_state_0 = (1/sp.sqrt(2))*(k_000 + k_111)\n",
    "sup_ent_state_T = (1/sp.sqrt(2))*(k_000 -  k_111)"
   ]
  },
  {
   "cell_type": "markdown",
   "id": "a82f223c-c4cf-4812-906a-af902069e58e",
   "metadata": {},
   "source": [
    "# Single Qubit described by H_sq"
   ]
  },
  {
   "cell_type": "code",
   "execution_count": 5,
   "id": "378a93aa-a249-4f6f-97e4-b069e7b11d4b",
   "metadata": {},
   "outputs": [],
   "source": [
    "ω = sp.Symbol('ω', real=True, positive = True)\n",
    "#ω = 2*np.pi*5.0\n",
    "\n",
    "H_sq = -ω/2*Z"
   ]
  },
  {
   "cell_type": "code",
   "execution_count": 6,
   "id": "f3dea11b-2f74-48e6-9973-30b96bc2df95",
   "metadata": {},
   "outputs": [
    {
     "data": {
      "text/latex": [
       "$\\displaystyle \\frac{3.14159265358979}{ω}$"
      ],
      "text/plain": [
       "3.14159265358979/ω"
      ]
     },
     "execution_count": 6,
     "metadata": {},
     "output_type": "execute_result"
    }
   ],
   "source": [
    "mandelstamm(H_sq,sup_state_1,sup_state_2)"
   ]
  },
  {
   "cell_type": "code",
   "execution_count": 7,
   "id": "b1df1ef1-4e42-4a58-84b9-cde0e2c3ddee",
   "metadata": {},
   "outputs": [
    {
     "data": {
      "text/latex": [
       "$\\displaystyle \\frac{3.14159265358979}{ω}$"
      ],
      "text/plain": [
       "3.14159265358979/ω"
      ]
     },
     "execution_count": 7,
     "metadata": {},
     "output_type": "execute_result"
    }
   ],
   "source": [
    "margolus(H_sq,sup_state_1,sup_state_2)"
   ]
  },
  {
   "cell_type": "markdown",
   "id": "d0a958c5-8b29-4596-ab0b-d27358e8ccce",
   "metadata": {},
   "source": [
    "The Mandelstamn-Tamm Bound and the Margolus-Levitin Bound yield identical results, indicating that the qubit described by H_sq evolves at the fastest possible rate, or in other words, at the quantum speed limit."
   ]
  },
  {
   "cell_type": "markdown",
   "id": "fa75e2f4-380a-4854-9eba-814fc54569e9",
   "metadata": {},
   "source": [
    "# Two interacting qubits are described by the Hamiltonian H_{2q}"
   ]
  },
  {
   "cell_type": "code",
   "execution_count": 8,
   "id": "c2049f1c-579a-45f4-a045-5233edd8685f",
   "metadata": {},
   "outputs": [],
   "source": [
    "ω1 = 5.0 \n",
    "ω2 = 5.3\n",
    "κ1 = 0.112\n",
    "\n",
    "#Ham\n",
    "H_2q = (-ω1/2)*tp(Z,E) + (-ω2/2)*tp(E,Z) + κ1*tp(X,X)\n"
   ]
  },
  {
   "cell_type": "code",
   "execution_count": 9,
   "id": "b4e12962-d9e6-4bb5-890a-6dcc7c81a918",
   "metadata": {},
   "outputs": [
    {
     "data": {
      "text/latex": [
       "$\\displaystyle 0.305008995494155$"
      ],
      "text/plain": [
       "0.305008995494155"
      ]
     },
     "execution_count": 9,
     "metadata": {},
     "output_type": "execute_result"
    }
   ],
   "source": [
    "mandelstamm(H_2q,final_state_0,final_state_T)"
   ]
  },
  {
   "cell_type": "code",
   "execution_count": 10,
   "id": "a1e0b25d-7486-4a13-807a-3d088018d283",
   "metadata": {},
   "outputs": [
    {
     "data": {
      "text/latex": [
       "$\\displaystyle 0.298447909686957$"
      ],
      "text/plain": [
       "0.298447909686957"
      ]
     },
     "execution_count": 10,
     "metadata": {},
     "output_type": "execute_result"
    }
   ],
   "source": [
    "margolus(H_2q,final_state_0,final_state_T)"
   ]
  },
  {
   "cell_type": "markdown",
   "id": "5b19de56-617a-44ce-9ac7-c198d7eac704",
   "metadata": {},
   "source": [
    "Furthermore, we show that the result will not change by integrating additional qubit-qubit interactions"
   ]
  },
  {
   "cell_type": "code",
   "execution_count": 11,
   "id": "20526483-5b38-4f39-a315-4d7908c1c7bb",
   "metadata": {},
   "outputs": [],
   "source": [
    "κ2 = 0.222\n",
    "\n",
    "H_xz = H_2q + κ2*tp(Z,Z)"
   ]
  },
  {
   "cell_type": "code",
   "execution_count": 12,
   "id": "04b2ed02-d535-483e-8a5e-b5daf9527c8b",
   "metadata": {},
   "outputs": [
    {
     "data": {
      "text/latex": [
       "$\\displaystyle 0.305008995494155$"
      ],
      "text/plain": [
       "0.305008995494155"
      ]
     },
     "execution_count": 12,
     "metadata": {},
     "output_type": "execute_result"
    }
   ],
   "source": [
    "mandelstamm(H_xz,final_state_0,final_state_T)"
   ]
  },
  {
   "cell_type": "code",
   "execution_count": 13,
   "id": "be0143e8-388b-4009-9d17-8053af1c4802",
   "metadata": {},
   "outputs": [
    {
     "data": {
      "text/latex": [
       "$\\displaystyle 0.298447909686957$"
      ],
      "text/plain": [
       "0.298447909686957"
      ]
     },
     "execution_count": 13,
     "metadata": {},
     "output_type": "execute_result"
    }
   ],
   "source": [
    "margolus(H_xz,final_state_0,final_state_T)"
   ]
  },
  {
   "cell_type": "markdown",
   "id": "5b82d984-a420-4f81-9330-9b9fb75947e8",
   "metadata": {},
   "source": [
    "Here, we investigate the asymmetric three qubit chain described by the Hamiltonian H_3q. The speed limit will be determined"
   ]
  },
  {
   "cell_type": "code",
   "execution_count": 14,
   "id": "fe69e8e6-9447-4bf4-9411-61abc30dc0d8",
   "metadata": {},
   "outputs": [],
   "source": [
    "# Three-Qubit Hamiltonian\n",
    "\n",
    "ω3 = 5.5 \n",
    "κ3 = 0.314\n",
    "\n",
    "\n",
    "# The drift describes the energy of the system, as a sum of all qubit energies\n",
    "drift_3qubit = (-ω1/2)*tp(Z,E,E) + (-ω2/2)*tp(E,Z,E) + (-ω3/2 * tp(E,E,Z))\n",
    "\n",
    "\n",
    "# Couplings between the qubits, in this case CHAIN COUPLINGS\n",
    "coupl_3qubit =  κ1*tp(X,X,E) + κ2*tp(Z,Z,E) + κ3*tp(E,X,X)\n",
    "\n",
    "\n",
    "\n",
    "# Total Hamiltonian as a sum of DRIFT and COUPLING terms\n",
    "Ham_3qub = drift_3qubit + coupl_3qubit\n",
    "\n",
    "\n"
   ]
  },
  {
   "cell_type": "code",
   "execution_count": 15,
   "id": "a7225e77-d052-4ffd-80f0-d779d00c71b0",
   "metadata": {},
   "outputs": [
    {
     "data": {
      "text/latex": [
       "$\\displaystyle 0.198658171086516$"
      ],
      "text/plain": [
       "0.198658171086516"
      ]
     },
     "execution_count": 15,
     "metadata": {},
     "output_type": "execute_result"
    }
   ],
   "source": [
    "mandelstamm(Ham_3qub,sup_ent_state_0,sup_ent_state_T)"
   ]
  },
  {
   "cell_type": "code",
   "execution_count": 16,
   "id": "a4e0e773-060e-4979-88aa-1f6353ee0c5b",
   "metadata": {},
   "outputs": [
    {
     "data": {
      "text/latex": [
       "$\\displaystyle 0.198565230796525$"
      ],
      "text/plain": [
       "0.198565230796525"
      ]
     },
     "execution_count": 16,
     "metadata": {},
     "output_type": "execute_result"
    }
   ],
   "source": [
    "margolus(Ham_3qub,sup_ent_state_0,sup_ent_state_T)"
   ]
  },
  {
   "cell_type": "markdown",
   "id": "6af49d1b-7b15-41c2-b0a9-dbc96ab892ac",
   "metadata": {},
   "source": [
    "# State Transformation in Landau-Zener Model"
   ]
  },
  {
   "cell_type": "markdown",
   "id": "9dbc142a-2951-406e-ba9f-ba5efce7bda2",
   "metadata": {},
   "source": [
    "In 2009, T. Caneva and colleagues demonstrated that quantum systems could be guided in accordance with the quantum speed limit by designing a control protocol that minimized the evolution time of a quantum system within the specified constraints (see \n",
    "<font color = blue> https://journals.aps.org/prl/pdf/10.1103/PhysRevLett.103.240501 </font>).\n",
    "\n",
    "\n",
    "Their findings indicated that the calculated quantum speed limit was consistent with the numerical results obtained through optimal control theory (OCT). They illustrated this by examining state transformation in a system modeled by the Landau-Zener Hamiltonian.\n",
    "\n",
    "\n",
    "\n"
   ]
  },
  {
   "cell_type": "code",
   "execution_count": 17,
   "id": "3e91241f-ad6b-479f-af89-6c5ed933c1bb",
   "metadata": {},
   "outputs": [
    {
     "data": {
      "text/latex": [
       "$\\displaystyle \\left[\\begin{matrix}Γ(t) & ω\\\\ω & - Γ(t)\\end{matrix}\\right]$"
      ],
      "text/plain": [
       "Matrix([\n",
       "[Γ(t),     ω],\n",
       "[   ω, -Γ(t)]])"
      ]
     },
     "execution_count": 17,
     "metadata": {},
     "output_type": "execute_result"
    }
   ],
   "source": [
    "# Landau Zener Hamiltonian\n",
    "\n",
    "Γ = sp.Symbol('Γ(t)',real=True)\n",
    "\n",
    "H_LZ = ω*X + Γ*Z\n",
    "H_LZ"
   ]
  },
  {
   "cell_type": "markdown",
   "id": "88d292e6-85a8-47a6-a411-02b5ca87e333",
   "metadata": {},
   "source": [
    "Here, we illustrate how the analytical result was obtained."
   ]
  },
  {
   "cell_type": "code",
   "execution_count": 18,
   "id": "227bcd59-c416-403f-890f-ef727aa8f533",
   "metadata": {},
   "outputs": [
    {
     "data": {
      "text/latex": [
       "$\\displaystyle \\left[\\begin{matrix}-0.000999998499988804\\\\0.999999500001375\\end{matrix}\\right]$"
      ],
      "text/plain": [
       "Matrix([\n",
       "[-0.000999998499988804],\n",
       "[    0.999999500001375]])"
      ]
     },
     "execution_count": 18,
     "metadata": {},
     "output_type": "execute_result"
    }
   ],
   "source": [
    "# get eigenvectors\n",
    "vec_1_inf,vec_2_inf = H_LZ.eigenvects()\n",
    "\n",
    "v1 = vec_1_inf[2][0]\n",
    "v2 = vec_2_inf[2][0]\n",
    "\n",
    "v1, v2\n",
    "\n",
    "# get eigenstates, normalize eigenvectors\n",
    "v_min= 1/(v1.norm())*v1\n",
    "v_plus= 1/(v2.norm())*v2\n",
    "\n",
    "v_min,v_plus\n",
    "\n",
    "# get instantaneous ground state for t=0 and t=T\n",
    "vm_0 = v_min.evalf(subs={Γ :-500*ω})\n",
    "vm_0\n",
    "\n",
    "vm_T = v_min.evalf(subs={Γ :500*ω})\n",
    "vm_T\n"
   ]
  },
  {
   "cell_type": "code",
   "execution_count": 19,
   "id": "effcd048-9614-487a-9644-0b9a81e520ba",
   "metadata": {},
   "outputs": [],
   "source": [
    "# get state infidelity\n",
    "\n",
    "inner_prod = ((vm_T.T* vm_0)[0]).simplify()\n",
    "\n",
    "I = 1-inner_prod"
   ]
  },
  {
   "cell_type": "code",
   "execution_count": 20,
   "id": "8cc8e433-5ce6-4c99-9cad-b79bbec74c7e",
   "metadata": {},
   "outputs": [
    {
     "data": {
      "text/latex": [
       "$\\displaystyle \\frac{1.56879946705109}{\\left|{\\sqrt{3.99999999984986 \\cdot 10^{-6} Γ(t)^{2} + 0.004 Γ(t) ω + ω^{2}}}\\right|}$"
      ],
      "text/plain": [
       "1.56879946705109/Abs(sqrt(3.99999999984986e-6*Γ(t)**2 + 0.004*Γ(t)*ω + ω**2))"
      ]
     },
     "execution_count": 20,
     "metadata": {},
     "output_type": "execute_result"
    }
   ],
   "source": [
    "Mand = mandelstamm(H_LZ,vm_0,vm_T)\n",
    "\n",
    "Mand"
   ]
  },
  {
   "cell_type": "code",
   "execution_count": 21,
   "id": "8b2933ff-a04f-4c74-afda-3c1e7c9ff48f",
   "metadata": {},
   "outputs": [
    {
     "data": {
      "text/latex": [
       "$\\displaystyle \\frac{1.56679887860055}{\\left|{0.999998000006 Γ(t) - 0.001999996000012 ω + 1.0 \\sqrt{Γ(t)^{2} + ω^{2}}}\\right|}$"
      ],
      "text/plain": [
       "1.56679887860055/Abs(0.999998000006*Γ(t) - 0.001999996000012*ω + 1.0*sqrt(Γ(t)**2 + ω**2))"
      ]
     },
     "execution_count": 21,
     "metadata": {},
     "output_type": "execute_result"
    }
   ],
   "source": [
    "Marg = margolus(H_LZ,vm_0,vm_T)\n",
    "\n",
    "Marg"
   ]
  }
 ],
 "metadata": {
  "kernelspec": {
   "display_name": "Python 3 (ipykernel)",
   "language": "python",
   "name": "python3"
  },
  "language_info": {
   "codemirror_mode": {
    "name": "ipython",
    "version": 3
   },
   "file_extension": ".py",
   "mimetype": "text/x-python",
   "name": "python",
   "nbconvert_exporter": "python",
   "pygments_lexer": "ipython3",
   "version": "3.9.18"
  }
 },
 "nbformat": 4,
 "nbformat_minor": 5
}
